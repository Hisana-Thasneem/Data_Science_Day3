{
 "cells": [
  {
   "cell_type": "markdown",
   "metadata": {},
   "source": [
    "# question1"
   ]
  },
  {
   "cell_type": "code",
   "execution_count": 1,
   "metadata": {},
   "outputs": [
    {
     "name": "stdout",
     "output_type": "stream",
     "text": [
      "[ 2  5  8 11 14 17 20 23 26 29 32 35 38 41 44 47]\n"
     ]
    }
   ],
   "source": [
    "import numpy as np\n",
    "import math\n",
    "\n",
    "arr = np.arange(2,50,3)\n",
    "print(arr)"
   ]
  },
  {
   "cell_type": "markdown",
   "metadata": {},
   "source": [
    "# question2"
   ]
  },
  {
   "cell_type": "code",
   "execution_count": 2,
   "metadata": {},
   "outputs": [
    {
     "name": "stdout",
     "output_type": "stream",
     "text": [
      "Enter five numbers of the first list one by one: 1\n",
      "Enter five numbers of the first list one by one: 2\n",
      "Enter five numbers of the first list one by one: 3\n",
      "Enter five numbers of the first list one by one: 4\n",
      "Enter five numbers of the first list one by one: 5\n",
      "[1 2 3 4 5]\n",
      "[1 2 3 4 5]\n",
      "Enter five numbers of the second list one by one: 6\n",
      "Enter five numbers of the second list one by one: 73\n",
      "Enter five numbers of the second list one by one: 5\n",
      "Enter five numbers of the second list one by one: 2\n",
      "Enter five numbers of the second list one by one: 11\n",
      "[ 6 73  5  2 11]\n",
      "[ 2  5  6 11 73]\n",
      "[ 1  2  3  4  5  6 73  5  2 11]\n",
      "[ 1  2  2  3  4  5  5  6 11 73]\n"
     ]
    }
   ],
   "source": [
    "import numpy as np\n",
    "\n",
    "a = []\n",
    "b = []\n",
    "lis = []\n",
    "for i in range(5):\n",
    "    n1 = int(input(\"Enter five numbers of the first list one by one: \"))\n",
    "    a.append(n1)\n",
    "a1 = np.array(a)\n",
    "print(a1)\n",
    "a11 = np.sort(a1)\n",
    "print(a11)\n",
    "for i in range(5):\n",
    "    n2 = int(input(\"Enter five numbers of the second list one by one: \"))\n",
    "    b.append(n2)\n",
    "b1 = np.array(b)\n",
    "print(b1)\n",
    "b11 = np.sort(b1)\n",
    "print(b11)\n",
    "c1 = np.concatenate((a1,b1))\n",
    "print(c1)\n",
    "d1 = np.sort(c1)\n",
    "print(d1)\n"
   ]
  },
  {
   "cell_type": "markdown",
   "metadata": {},
   "source": [
    "# question3"
   ]
  },
  {
   "cell_type": "code",
   "execution_count": 3,
   "metadata": {},
   "outputs": [
    {
     "name": "stdout",
     "output_type": "stream",
     "text": [
      "[[0.31828298 0.35881325 0.34156699 0.78863825]\n",
      " [0.96564442 0.44916086 0.32430722 0.10961114]\n",
      " [0.88854033 0.84011723 0.35965443 0.28468336]]\n",
      "(3, 4)\n",
      "12\n",
      "2\n"
     ]
    }
   ],
   "source": [
    "import numpy as np\n",
    "arr = np.random.rand(3,4)\n",
    "print(arr)\n",
    "print(np.shape(arr))\n",
    "print(np.size(arr))\n",
    "print(arr.ndim)"
   ]
  },
  {
   "cell_type": "markdown",
   "metadata": {},
   "source": [
    "# question4"
   ]
  },
  {
   "cell_type": "code",
   "execution_count": 4,
   "metadata": {},
   "outputs": [
    {
     "name": "stdout",
     "output_type": "stream",
     "text": [
      "[1 3 5 7 9]\n",
      "1\n",
      "2\n",
      "[[1]\n",
      " [3]\n",
      " [5]\n",
      " [7]\n",
      " [9]]\n"
     ]
    }
   ],
   "source": [
    "import numpy as np \n",
    "\n",
    "arr = np.arange(1,10,2)\n",
    "print(arr)\n",
    "print(arr.ndim)\n",
    "arr = np.expand_dims(arr, axis=1)\n",
    "print(arr.ndim)\n",
    "print(arr)"
   ]
  },
  {
   "cell_type": "markdown",
   "metadata": {},
   "source": [
    "# question5"
   ]
  },
  {
   "cell_type": "code",
   "execution_count": 5,
   "metadata": {},
   "outputs": [
    {
     "name": "stdout",
     "output_type": "stream",
     "text": [
      "vstack example:\n",
      " [[0.5849683  0.37209201 0.76167171]\n",
      " [0.06325731 0.94013331 0.39994451]\n",
      " [0.99028021 0.94669198 0.93277855]\n",
      " [0.80484124 0.0765733  0.34046921]\n",
      " [0.66304925 0.42094258 0.20138604]\n",
      " [0.36074581 0.6542573  0.6392462 ]]\n",
      "hstack example:\n",
      " [[0.5849683  0.37209201 0.76167171 0.80484124 0.0765733  0.34046921]\n",
      " [0.06325731 0.94013331 0.39994451 0.66304925 0.42094258 0.20138604]\n",
      " [0.99028021 0.94669198 0.93277855 0.36074581 0.6542573  0.6392462 ]]\n"
     ]
    }
   ],
   "source": [
    "import numpy as np\n",
    "\n",
    "a1 = np.random.rand(3,3)\n",
    "b1 = np.random.rand(3,3)\n",
    "print( \"vstack example:\\n\",np.vstack((a1,b1)))\n",
    "print(\"hstack example:\\n\", np.hstack((a1,b1)))"
   ]
  },
  {
   "cell_type": "markdown",
   "metadata": {},
   "source": [
    "# question6"
   ]
  },
  {
   "cell_type": "code",
   "execution_count": 6,
   "metadata": {},
   "outputs": [
    {
     "name": "stdout",
     "output_type": "stream",
     "text": [
      "3\n",
      "6\n"
     ]
    }
   ],
   "source": [
    "import numpy as np \n",
    "a = np.array([1,2,3,4,5])\n",
    "print(a[2])\n",
    "\n",
    "b = np.array([[1,2,3,4],[6,7,8,9]])\n",
    "print(b[1,0])\n"
   ]
  },
  {
   "cell_type": "code",
   "execution_count": null,
   "metadata": {},
   "outputs": [],
   "source": []
  }
 ],
 "metadata": {
  "kernelspec": {
   "display_name": "Python 3",
   "language": "python",
   "name": "python3"
  },
  "language_info": {
   "codemirror_mode": {
    "name": "ipython",
    "version": 3
   },
   "file_extension": ".py",
   "mimetype": "text/x-python",
   "name": "python",
   "nbconvert_exporter": "python",
   "pygments_lexer": "ipython3",
   "version": "3.8.3"
  }
 },
 "nbformat": 4,
 "nbformat_minor": 4
}
